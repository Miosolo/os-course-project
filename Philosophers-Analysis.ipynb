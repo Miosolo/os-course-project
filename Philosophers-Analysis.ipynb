{
 "cells": [
  {
   "cell_type": "code",
   "execution_count": 1,
   "metadata": {},
   "outputs": [],
   "source": [
    "import matplotlib.pyplot as plt"
   ]
  },
  {
   "cell_type": "code",
   "execution_count": 2,
   "metadata": {},
   "outputs": [],
   "source": [
    "# init\n",
    "\n",
    "names = [\"Alice\", \"Bob\", \"Carol\", \"David\", \"Esan\"]\n",
    "logs = {}\n",
    "for n in names:\n",
    "    logs[n] = []"
   ]
  },
  {
   "cell_type": "code",
   "execution_count": 3,
   "metadata": {},
   "outputs": [],
   "source": [
    "import re"
   ]
  },
  {
   "cell_type": "code",
   "execution_count": 8,
   "metadata": {},
   "outputs": [
    {
     "name": "stderr",
     "output_type": "stream",
     "text": [
      "C:\\Users\\MX\\Anaconda3\\lib\\site-packages\\ipykernel_launcher.py:2: FutureWarning: Possible nested set at position 1\n",
      "  \n",
      "C:\\Users\\MX\\Anaconda3\\lib\\site-packages\\ipykernel_launcher.py:2: FutureWarning: Possible nested set at position 24\n",
      "  \n"
     ]
    }
   ],
   "source": [
    "# capture the finish lines\n",
    "reg = re.compile(r'[[](?P<cnt>[0-9]+)[\\]]/[[](?P<rnd>[0-9]+)[\\]] (?P<name>\\w+) finishes .*')\n",
    "\n",
    "testStr = '[38]/[101] Esan finishes 37th dinner'\n",
    "cap = reg.match(testStr).groupdict()"
   ]
  },
  {
   "cell_type": "code",
   "execution_count": 11,
   "metadata": {},
   "outputs": [
    {
     "data": {
      "text/plain": [
       "'38'"
      ]
     },
     "execution_count": 11,
     "metadata": {},
     "output_type": "execute_result"
    }
   ],
   "source": [
    "cap[\"cnt\"]"
   ]
  },
  {
   "cell_type": "code",
   "execution_count": 12,
   "metadata": {},
   "outputs": [
    {
     "data": {
      "text/plain": [
       "'101'"
      ]
     },
     "execution_count": 12,
     "metadata": {},
     "output_type": "execute_result"
    }
   ],
   "source": [
    "cap[\"rnd\"]"
   ]
  },
  {
   "cell_type": "code",
   "execution_count": 13,
   "metadata": {},
   "outputs": [
    {
     "data": {
      "text/plain": [
       "'Esan'"
      ]
     },
     "execution_count": 13,
     "metadata": {},
     "output_type": "execute_result"
    }
   ],
   "source": [
    "cap[\"name\"]"
   ]
  },
  {
   "cell_type": "code",
   "execution_count": 20,
   "metadata": {},
   "outputs": [],
   "source": [
    "with open('philos.log', 'r') as log:\n",
    "    while True:\n",
    "        line = log.readline()\n",
    "        if not line:\n",
    "            break\n",
    "        regMatch = reg.match(line)\n",
    "        if regMatch != None:\n",
    "            cap = regMatch.groupdict()\n",
    "            logs[cap[\"name\"]].append((cap[\"cnt\"], cap[\"rnd\"]))"
   ]
  },
  {
   "cell_type": "code",
   "execution_count": 25,
   "metadata": {},
   "outputs": [
    {
     "data": {
      "text/plain": [
       "[<matplotlib.lines.Line2D at 0x23763e87c88>]"
      ]
     },
     "execution_count": 25,
     "metadata": {},
     "output_type": "execute_result"
    },
    {
     "data": {
      "image/png": "[encoded data removed]",
      "text/plain": [
       "<Figure size 432x288 with 1 Axes>"
      ]
     },
     "metadata": {
      "needs_background": "light"
     },
     "output_type": "display_data"
    }
   ],
   "source": [
    "thisName = 'Alice'\n",
    "cnts = []\n",
    "rnds = []\n",
    "for cnt, rnd in logs[thisName]:\n",
    "    cnts.append(cnt)\n",
    "    rnds.append(rnd)\n",
    "\n",
    "cnts = cnts[:20]\n",
    "rnds = rnds[:20]\n",
    "\n",
    "plt.title(thisName +'\\'s Analysis')\n",
    "plt.plot(rnds, cnts, color='green')"
   ]
  },
  {
   "cell_type": "code",
   "execution_count": null,
   "metadata": {},
   "outputs": [],
   "source": []
  }
 ],
 "metadata": {
  "kernelspec": {
   "display_name": "Python 3",
   "language": "python",
   "name": "python3"
  },
  "language_info": {
   "codemirror_mode": {
    "name": "ipython",
    "version": 3
   },
   "file_extension": ".py",
   "mimetype": "text/x-python",
   "name": "python",
   "nbconvert_exporter": "python",
   "pygments_lexer": "ipython3",
   "version": "3.7.3"
  }
 },
 "nbformat": 4,
 "nbformat_minor": 2
}
